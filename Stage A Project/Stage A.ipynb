{
 "cells": [
  {
   "cell_type": "markdown",
   "id": "a77a7845-a535-4375-8d39-2d1fe1bd8a9b",
   "metadata": {
    "editable": true,
    "slideshow": {
     "slide_type": ""
    },
    "tags": []
   },
   "source": [
    "# Introduction to Python and Machine Learning \n",
    "### By Chukwuma Anthony Nwachukwu\n",
    "### anthonynwachukwu19@gmail.com"
   ]
  },
  {
   "cell_type": "code",
   "execution_count": 1,
   "id": "8a33f6a9-f2bf-4d9a-ae26-21502062209b",
   "metadata": {
    "editable": true,
    "slideshow": {
     "slide_type": ""
    },
    "tags": []
   },
   "outputs": [],
   "source": [
    "#importing libraries\n",
    "import pandas as pd, numpy as np, warnings, matplotlib.pyplot as plt, seaborn as sns \n",
    "warnings.simplefilter(action = 'ignore', category = FutureWarning)"
   ]
  },
  {
   "cell_type": "code",
   "execution_count": 2,
   "id": "34960464-301e-4c54-904b-2a552d5156d1",
   "metadata": {},
   "outputs": [],
   "source": [
    "#importing dataset\n",
    "data=pd.read_csv('Stage_A.csv', encoding=\"latin-1\")"
   ]
  },
  {
   "cell_type": "code",
   "execution_count": 3,
   "id": "894e4683-cbb0-4fca-921a-35ad3a8b1943",
   "metadata": {
    "scrolled": true
   },
   "outputs": [
    {
     "data": {
      "text/html": [
       "<div>\n",
       "<style scoped>\n",
       "    .dataframe tbody tr th:only-of-type {\n",
       "        vertical-align: middle;\n",
       "    }\n",
       "\n",
       "    .dataframe tbody tr th {\n",
       "        vertical-align: top;\n",
       "    }\n",
       "\n",
       "    .dataframe thead th {\n",
       "        text-align: right;\n",
       "    }\n",
       "</style>\n",
       "<table border=\"1\" class=\"dataframe\">\n",
       "  <thead>\n",
       "    <tr style=\"text-align: right;\">\n",
       "      <th></th>\n",
       "      <th>Area Code</th>\n",
       "      <th>Area</th>\n",
       "      <th>Item Code</th>\n",
       "      <th>Item</th>\n",
       "      <th>Element Code</th>\n",
       "      <th>Element</th>\n",
       "      <th>Unit</th>\n",
       "      <th>Y2014</th>\n",
       "      <th>Y2015</th>\n",
       "      <th>Y2016</th>\n",
       "      <th>Y2017</th>\n",
       "      <th>Y2018</th>\n",
       "    </tr>\n",
       "  </thead>\n",
       "  <tbody>\n",
       "    <tr>\n",
       "      <th>0</th>\n",
       "      <td>4</td>\n",
       "      <td>Algeria</td>\n",
       "      <td>2501</td>\n",
       "      <td>Population</td>\n",
       "      <td>511</td>\n",
       "      <td>Total Population - Both sexes</td>\n",
       "      <td>1000 persons</td>\n",
       "      <td>38924.00</td>\n",
       "      <td>39728.00</td>\n",
       "      <td>40551.00</td>\n",
       "      <td>41389.00</td>\n",
       "      <td>42228.00</td>\n",
       "    </tr>\n",
       "    <tr>\n",
       "      <th>1</th>\n",
       "      <td>4</td>\n",
       "      <td>Algeria</td>\n",
       "      <td>2501</td>\n",
       "      <td>Population</td>\n",
       "      <td>5301</td>\n",
       "      <td>Domestic supply quantity</td>\n",
       "      <td>1000 tonnes</td>\n",
       "      <td>0.00</td>\n",
       "      <td>0.00</td>\n",
       "      <td>0.00</td>\n",
       "      <td>0.00</td>\n",
       "      <td>0.00</td>\n",
       "    </tr>\n",
       "    <tr>\n",
       "      <th>2</th>\n",
       "      <td>4</td>\n",
       "      <td>Algeria</td>\n",
       "      <td>2901</td>\n",
       "      <td>Grand Total</td>\n",
       "      <td>664</td>\n",
       "      <td>Food supply (kcal/capita/day)</td>\n",
       "      <td>kcal/capita/day</td>\n",
       "      <td>3377.00</td>\n",
       "      <td>3379.00</td>\n",
       "      <td>3372.00</td>\n",
       "      <td>3341.00</td>\n",
       "      <td>3322.00</td>\n",
       "    </tr>\n",
       "    <tr>\n",
       "      <th>3</th>\n",
       "      <td>4</td>\n",
       "      <td>Algeria</td>\n",
       "      <td>2901</td>\n",
       "      <td>Grand Total</td>\n",
       "      <td>674</td>\n",
       "      <td>Protein supply quantity (g/capita/day)</td>\n",
       "      <td>g/capita/day</td>\n",
       "      <td>94.90</td>\n",
       "      <td>94.35</td>\n",
       "      <td>94.72</td>\n",
       "      <td>92.82</td>\n",
       "      <td>91.83</td>\n",
       "    </tr>\n",
       "    <tr>\n",
       "      <th>4</th>\n",
       "      <td>4</td>\n",
       "      <td>Algeria</td>\n",
       "      <td>2901</td>\n",
       "      <td>Grand Total</td>\n",
       "      <td>684</td>\n",
       "      <td>Fat supply quantity (g/capita/day)</td>\n",
       "      <td>g/capita/day</td>\n",
       "      <td>80.06</td>\n",
       "      <td>79.36</td>\n",
       "      <td>77.40</td>\n",
       "      <td>80.19</td>\n",
       "      <td>77.28</td>\n",
       "    </tr>\n",
       "  </tbody>\n",
       "</table>\n",
       "</div>"
      ],
      "text/plain": [
       "   Area Code     Area  Item Code         Item  Element Code  \\\n",
       "0          4  Algeria       2501   Population           511   \n",
       "1          4  Algeria       2501   Population          5301   \n",
       "2          4  Algeria       2901  Grand Total           664   \n",
       "3          4  Algeria       2901  Grand Total           674   \n",
       "4          4  Algeria       2901  Grand Total           684   \n",
       "\n",
       "                                  Element             Unit     Y2014  \\\n",
       "0           Total Population - Both sexes     1000 persons  38924.00   \n",
       "1                Domestic supply quantity      1000 tonnes      0.00   \n",
       "2           Food supply (kcal/capita/day)  kcal/capita/day   3377.00   \n",
       "3  Protein supply quantity (g/capita/day)     g/capita/day     94.90   \n",
       "4      Fat supply quantity (g/capita/day)     g/capita/day     80.06   \n",
       "\n",
       "      Y2015     Y2016     Y2017     Y2018  \n",
       "0  39728.00  40551.00  41389.00  42228.00  \n",
       "1      0.00      0.00      0.00      0.00  \n",
       "2   3379.00   3372.00   3341.00   3322.00  \n",
       "3     94.35     94.72     92.82     91.83  \n",
       "4     79.36     77.40     80.19     77.28  "
      ]
     },
     "execution_count": 3,
     "metadata": {},
     "output_type": "execute_result"
    }
   ],
   "source": [
    "data.head()"
   ]
  },
  {
   "cell_type": "markdown",
   "id": "04660949-ca3c-439b-a43c-764f010da1b1",
   "metadata": {},
   "source": [
    "## Data Preprocessing"
   ]
  },
  {
   "cell_type": "code",
   "execution_count": 4,
   "id": "28164d34-6c54-4ac3-8746-7fa04dafe379",
   "metadata": {},
   "outputs": [],
   "source": [
    "data.drop(data.columns[[0,2,6]],axis=1, inplace = True)"
   ]
  },
  {
   "cell_type": "code",
   "execution_count": 5,
   "id": "4a4a8526-65d1-49d6-a6c0-7e499ef53a32",
   "metadata": {},
   "outputs": [],
   "source": [
    "##Making all features lowercase\n",
    "data.columns = data.columns.str.lower()\n",
    "## renaming features\n",
    "data.rename(columns={\"y2014\":'2014',\"y2015\":'2015','y2016':'2016','y2017':'2017','y2018':'2018',\"element code\" : \"element_code\"},inplace=True)\n"
   ]
  },
  {
   "cell_type": "code",
   "execution_count": 6,
   "id": "0ffdf0bd-a197-4580-8f8c-3eb5a4dfb358",
   "metadata": {},
   "outputs": [
    {
     "data": {
      "text/html": [
       "<div>\n",
       "<style scoped>\n",
       "    .dataframe tbody tr th:only-of-type {\n",
       "        vertical-align: middle;\n",
       "    }\n",
       "\n",
       "    .dataframe tbody tr th {\n",
       "        vertical-align: top;\n",
       "    }\n",
       "\n",
       "    .dataframe thead th {\n",
       "        text-align: right;\n",
       "    }\n",
       "</style>\n",
       "<table border=\"1\" class=\"dataframe\">\n",
       "  <thead>\n",
       "    <tr style=\"text-align: right;\">\n",
       "      <th></th>\n",
       "      <th>area</th>\n",
       "      <th>item</th>\n",
       "      <th>element_code</th>\n",
       "      <th>element</th>\n",
       "      <th>2014</th>\n",
       "      <th>2015</th>\n",
       "      <th>2016</th>\n",
       "      <th>2017</th>\n",
       "      <th>2018</th>\n",
       "    </tr>\n",
       "  </thead>\n",
       "  <tbody>\n",
       "    <tr>\n",
       "      <th>0</th>\n",
       "      <td>Algeria</td>\n",
       "      <td>Population</td>\n",
       "      <td>511</td>\n",
       "      <td>Total Population - Both sexes</td>\n",
       "      <td>38924.00</td>\n",
       "      <td>39728.00</td>\n",
       "      <td>40551.00</td>\n",
       "      <td>41389.00</td>\n",
       "      <td>42228.00</td>\n",
       "    </tr>\n",
       "    <tr>\n",
       "      <th>1</th>\n",
       "      <td>Algeria</td>\n",
       "      <td>Population</td>\n",
       "      <td>5301</td>\n",
       "      <td>Domestic supply quantity</td>\n",
       "      <td>0.00</td>\n",
       "      <td>0.00</td>\n",
       "      <td>0.00</td>\n",
       "      <td>0.00</td>\n",
       "      <td>0.00</td>\n",
       "    </tr>\n",
       "    <tr>\n",
       "      <th>2</th>\n",
       "      <td>Algeria</td>\n",
       "      <td>Grand Total</td>\n",
       "      <td>664</td>\n",
       "      <td>Food supply (kcal/capita/day)</td>\n",
       "      <td>3377.00</td>\n",
       "      <td>3379.00</td>\n",
       "      <td>3372.00</td>\n",
       "      <td>3341.00</td>\n",
       "      <td>3322.00</td>\n",
       "    </tr>\n",
       "    <tr>\n",
       "      <th>3</th>\n",
       "      <td>Algeria</td>\n",
       "      <td>Grand Total</td>\n",
       "      <td>674</td>\n",
       "      <td>Protein supply quantity (g/capita/day)</td>\n",
       "      <td>94.90</td>\n",
       "      <td>94.35</td>\n",
       "      <td>94.72</td>\n",
       "      <td>92.82</td>\n",
       "      <td>91.83</td>\n",
       "    </tr>\n",
       "    <tr>\n",
       "      <th>4</th>\n",
       "      <td>Algeria</td>\n",
       "      <td>Grand Total</td>\n",
       "      <td>684</td>\n",
       "      <td>Fat supply quantity (g/capita/day)</td>\n",
       "      <td>80.06</td>\n",
       "      <td>79.36</td>\n",
       "      <td>77.40</td>\n",
       "      <td>80.19</td>\n",
       "      <td>77.28</td>\n",
       "    </tr>\n",
       "  </tbody>\n",
       "</table>\n",
       "</div>"
      ],
      "text/plain": [
       "      area         item  element_code                                 element  \\\n",
       "0  Algeria   Population           511           Total Population - Both sexes   \n",
       "1  Algeria   Population          5301                Domestic supply quantity   \n",
       "2  Algeria  Grand Total           664           Food supply (kcal/capita/day)   \n",
       "3  Algeria  Grand Total           674  Protein supply quantity (g/capita/day)   \n",
       "4  Algeria  Grand Total           684      Fat supply quantity (g/capita/day)   \n",
       "\n",
       "       2014      2015      2016      2017      2018  \n",
       "0  38924.00  39728.00  40551.00  41389.00  42228.00  \n",
       "1      0.00      0.00      0.00      0.00      0.00  \n",
       "2   3377.00   3379.00   3372.00   3341.00   3322.00  \n",
       "3     94.90     94.35     94.72     92.82     91.83  \n",
       "4     80.06     79.36     77.40     80.19     77.28  "
      ]
     },
     "execution_count": 6,
     "metadata": {},
     "output_type": "execute_result"
    }
   ],
   "source": [
    "data.head()"
   ]
  },
  {
   "cell_type": "markdown",
   "id": "2dc513d4-77e5-4aeb-8388-c04346d7220c",
   "metadata": {},
   "source": [
    "## Questions"
   ]
  },
  {
   "cell_type": "code",
   "execution_count": 7,
   "id": "beea3074-b6ed-4d1a-9a5e-d7b0ea5c480d",
   "metadata": {},
   "outputs": [
    {
     "name": "stdout",
     "output_type": "stream",
     "text": [
      "The Mean and Standard Deviation for Year 2017 is 140.92 and 1672\n"
     ]
    }
   ],
   "source": [
    "##Mean\n",
    "mean = round(data['2017'].mean(),2)\n",
    "##Standard Deviation\n",
    "std = round(data['2017'].std())\n",
    "print(\"The Mean and Standard Deviation for Year 2017 is\", mean, 'and', std)"
   ]
  },
  {
   "cell_type": "raw",
   "id": "42324de4-ec0e-449d-9293-f70b72650adb",
   "metadata": {},
   "source": []
  },
  {
   "cell_type": "markdown",
   "id": "20ffb025-3f82-45a3-8cbe-711bd503efd8",
   "metadata": {},
   "source": [
    "What is the total sum of Wine produced in 2015 and 2018 respectively?"
   ]
  },
  {
   "cell_type": "code",
   "execution_count": 8,
   "id": "a7f5ce06-ebe5-4861-a4ef-871d2fb0b16c",
   "metadata": {},
   "outputs": [
    {
     "name": "stdout",
     "output_type": "stream",
     "text": [
      "Total sum of Wine produced in 2015 and 2018 is 4251.81 and 4039.32\n"
     ]
    }
   ],
   "source": [
    "##Groupingby Wine for 2015 and 2018\n",
    "Wine_2015 = round(data.groupby(['item']).sum().loc[\"Wine\",'2015'],2)\n",
    "Wine_2018 = round(data.groupby(['item']).sum().loc[\"Wine\",'2018'],2)\n",
    "print(\"Total sum of Wine produced in 2015 and 2018 is\", Wine_2015, \"and\", Wine_2018)"
   ]
  },
  {
   "cell_type": "raw",
   "id": "0e529922-98be-454a-aaf1-4b5f97d197ee",
   "metadata": {},
   "source": []
  },
  {
   "cell_type": "markdown",
   "id": "c1b26c0d-515c-4186-915f-6206918f50bd",
   "metadata": {},
   "source": [
    "\r\n",
    "Which year had the least correlation with ‘Element Code’?"
   ]
  },
  {
   "cell_type": "code",
   "execution_count": 9,
   "id": "ffbf45ed-dc44-4dd2-aaa7-5f3a03e69701",
   "metadata": {
    "editable": true,
    "slideshow": {
     "slide_type": ""
    },
    "tags": []
   },
   "outputs": [
    {
     "name": "stdout",
     "output_type": "stream",
     "text": [
      "The year with the least correlation to Element Code is 2016\n"
     ]
    }
   ],
   "source": [
    "# Calculating Correlation w.r.t element_code\n",
    "correlation = data.corr(numeric_only=True)['element_code'].sort_values(ascending=True).idxmin()\n",
    "print(\"The year with the least correlation to Element Code is\", correlation)"
   ]
  },
  {
   "cell_type": "raw",
   "id": "4eabb6d0-45e7-429d-9321-a723b0f67055",
   "metadata": {},
   "source": []
  },
  {
   "cell_type": "markdown",
   "id": "607756ff-8327-460b-83fb-7b764f99f324",
   "metadata": {},
   "source": [
    "What is the total number and percentage of missing data in 2014 to 3 decimal places?"
   ]
  },
  {
   "cell_type": "code",
   "execution_count": 10,
   "id": "2e370a73-0c29-4e6e-9b2b-29c71c965acd",
   "metadata": {},
   "outputs": [
    {
     "name": "stdout",
     "output_type": "stream",
     "text": [
      "The total number and percentage of missing data in 2014 is 1589 and 2.607 %\n"
     ]
    }
   ],
   "source": [
    "#Calculating the percentage of missing data for 2014 and the number of missing data\n",
    "missing_data_2014 = data['2014'].isnull().sum()\n",
    "total = len(data['2014'])\n",
    "percentage = round(missing_data_2014 / total * 100 ,3)\n",
    "\n",
    "print(\"The total number and percentage of missing data in 2014 is\",missing_data_2014,\"and\", percentage,\"%\")"
   ]
  },
  {
   "cell_type": "raw",
   "id": "b7d64078-310e-4338-9b8a-d6f63c353bcb",
   "metadata": {},
   "source": []
  },
  {
   "cell_type": "markdown",
   "id": "0e9af494-b947-4eca-aa16-263eb71e5ff3",
   "metadata": {},
   "source": [
    "\r\n",
    "Perform a groupby operation on ‘Element’.  What year has the highest sum of Stock Variation?"
   ]
  },
  {
   "cell_type": "code",
   "execution_count": 11,
   "id": "3e5bbe1c-3cf2-4366-bc67-684e5b999fdd",
   "metadata": {},
   "outputs": [
    {
     "name": "stdout",
     "output_type": "stream",
     "text": [
      "The year with the max sum of Stock Variation is 2014 with value 58749.83\n"
     ]
    }
   ],
   "source": [
    "#groupingby Element and indexing Stock Variation\n",
    "stock_variation = data.groupby([\"element\"]).sum().loc[\"Stock Variation\"]\n",
    "#Finding the idxmax for the respective years in the dataset\n",
    "data_stock = stock_variation[['2014','2015','2016','2017','2018']].idxmax()\n",
    "#Finding the max value for the respective years in the dataset\n",
    "data_stock_value = stock_variation[['2014','2015','2016','2017','2018']].max()\n",
    "print(\"The year with the max sum of Stock Variation is\",data_stock, \"with value\",data_stock_value)"
   ]
  },
  {
   "cell_type": "raw",
   "id": "05e839df-efc1-4197-8185-d44c736d657c",
   "metadata": {},
   "source": []
  },
  {
   "cell_type": "markdown",
   "id": "b06eb4a3-6907-4f47-9edc-1de8f8ac529e",
   "metadata": {},
   "source": [
    "What is the total number of unique countries in the dataset??"
   ]
  },
  {
   "cell_type": "code",
   "execution_count": 12,
   "id": "36a59b47-6985-49a1-be55-9988cc323bfa",
   "metadata": {
    "editable": true,
    "slideshow": {
     "slide_type": ""
    },
    "tags": []
   },
   "outputs": [
    {
     "name": "stdout",
     "output_type": "stream",
     "text": [
      "The total number of unique countries in the dataset is 49\n"
     ]
    }
   ],
   "source": [
    "#Finding the unique values in area\n",
    "unique_countries=len(data.area.unique())\n",
    "print(\"The total number of unique countries in the dataset is\",unique_countries)"
   ]
  },
  {
   "cell_type": "raw",
   "id": "e2067b64-d127-4f64-b4c0-e4e9626655a0",
   "metadata": {},
   "source": []
  },
  {
   "cell_type": "markdown",
   "id": "1b87e4ae-3a9f-4a44-ab5a-6a8ca6c30d89",
   "metadata": {},
   "source": [
    "How would you check for the number of rows and columns in a pandas DataFrame named df?"
   ]
  },
  {
   "cell_type": "code",
   "execution_count": 13,
   "id": "723cbe1c-a552-46c1-a8d8-62f6f87073ff",
   "metadata": {},
   "outputs": [
    {
     "data": {
      "text/plain": [
       "(60943, 9)"
      ]
     },
     "execution_count": 13,
     "metadata": {},
     "output_type": "execute_result"
    }
   ],
   "source": [
    "#Finding the rows and columns(observation and features) of a dataset\n",
    "df = data.shape\n",
    "df"
   ]
  },
  {
   "cell_type": "raw",
   "id": "8025706f-5179-4678-b458-f438966c63ff",
   "metadata": {},
   "source": []
  },
  {
   "cell_type": "markdown",
   "id": "5bad41d3-c6de-40fc-9ac3-284375f4ada1",
   "metadata": {},
   "source": [
    "Given the following numpy array \r\n",
    "\r\n",
    "array  = ([[94, 89, 63    [93, 92,       [92, 94, 56]])\r\n",
    "\r\n",
    "How would you select  the elements in bold and italics from th\n",
    "e array?"
   ]
  },
  {
   "cell_type": "code",
   "execution_count": 14,
   "id": "b00bc414-0d9a-4c19-9c5a-b5a40c39b765",
   "metadata": {
    "editable": true,
    "slideshow": {
     "slide_type": ""
    },
    "tags": []
   },
   "outputs": [
    {
     "name": "stdout",
     "output_type": "stream",
     "text": [
      "[[89 63]\n",
      " [92 48]]\n"
     ]
    }
   ],
   "source": [
    "#Creating an array\n",
    "array = np.array([[94, 89, 63],[93, 92, 48],[92, 94, 56]])\n",
    "print(array[:2,1:])"
   ]
  },
  {
   "cell_type": "raw",
   "id": "1d0228ac-576b-4470-b0cd-2ab85abfb723",
   "metadata": {},
   "source": []
  },
  {
   "cell_type": "markdown",
   "id": "a4bac540-505c-4573-ac76-fa54983d33b4",
   "metadata": {},
   "source": [
    "\r\n",
    "Consider the following list of tuples:\r\n",
    "\r\n",
    "y = [(2, 4), (7, 8), (1, 5, 9)]\r\n",
    "\r\n",
    "How would you assign element 8 from the list to a variable x?"
   ]
  },
  {
   "cell_type": "code",
   "execution_count": 15,
   "id": "73f93197-fe77-4a06-843b-0e4a35ff2c89",
   "metadata": {},
   "outputs": [
    {
     "name": "stdout",
     "output_type": "stream",
     "text": [
      "8\n"
     ]
    }
   ],
   "source": [
    "#Creatinf a list of tuple\n",
    "y = [(2, 4), (7, 8), (1, 5, 9)]\n",
    "x=y[1][-1]\n",
    "print(x)"
   ]
  },
  {
   "cell_type": "raw",
   "id": "cbb60509-374e-4d8b-9f6f-03a14f6a76ee",
   "metadata": {},
   "source": []
  },
  {
   "cell_type": "markdown",
   "id": "019a5fdb-3951-4093-a8fc-df07091a6c5f",
   "metadata": {},
   "source": [
    "\r\n",
    "Select columns ‘Y2017’ and ‘Area’, Perform a groupby operation on ‘Area’.  Which of these Areas had the 7th lowest sum in 2017?"
   ]
  },
  {
   "cell_type": "code",
   "execution_count": 16,
   "id": "ca2a5908-85d9-4ead-b2c8-e6d577d7eba3",
   "metadata": {},
   "outputs": [
    {
     "name": "stdout",
     "output_type": "stream",
     "text": [
      "The country with the 7th lowest sum in 2017 is Guinea-Bissau\n"
     ]
    }
   ],
   "source": [
    "#Groupingby sum of Area with respect to 2017, sorting in ascending order and indexing the 7th value\n",
    "lowest_sum_2017 = data.groupby(['area']).sum()['2017'].sort_values(ascending = True).index[6]\n",
    "print(\"The country with the 7th lowest sum in 2017 is\", lowest_sum_2017)"
   ]
  },
  {
   "cell_type": "raw",
   "id": "b4a3f7a6-4d6a-4a82-9f99-f484da1af13b",
   "metadata": {},
   "source": []
  },
  {
   "cell_type": "markdown",
   "id": "cafcad33-d6ea-460f-98c3-c55c47c6aabc",
   "metadata": {},
   "source": [
    "\r\n",
    "What would be the output for?\r\n",
    "\r\n",
    "S = [['him', 'sell'], [90, 28, 43]]\r\n",
    "\r\n",
    "S[0][1][1]"
   ]
  },
  {
   "cell_type": "code",
   "execution_count": 17,
   "id": "526ed844-2f75-4d76-b70c-b1e58dd0354f",
   "metadata": {},
   "outputs": [
    {
     "name": "stdout",
     "output_type": "stream",
     "text": [
      "Answer: e\n"
     ]
    }
   ],
   "source": [
    "S = [['him', 'sell'], [90, 28, 43]]\n",
    "\n",
    "print(\"Answer:\",S[0][1][1])"
   ]
  },
  {
   "cell_type": "raw",
   "id": "662c9440-829a-4838-8819-1e9e44383a76",
   "metadata": {},
   "source": []
  },
  {
   "cell_type": "markdown",
   "id": "83fc69a1-38c3-4d4a-b0b1-de24dbc5cc9b",
   "metadata": {},
   "source": [
    "\r\n",
    "What is the total Protein supply quantity in Madagascar in 2015?"
   ]
  },
  {
   "cell_type": "code",
   "execution_count": 18,
   "id": "2d3ab11a-393d-4c97-909d-e3310c28f331",
   "metadata": {},
   "outputs": [
    {
     "name": "stdout",
     "output_type": "stream",
     "text": [
      "The total Protein supply quantity in Madagascar in 2015 is 173.05\n"
     ]
    }
   ],
   "source": [
    "#Groupingby total sums of element per area for 2017 then indexing Protein supply quantity and Madagascar\n",
    "protein_supply = data.groupby([\"element\",\"area\"]).sum()['2015'].loc[\"Protein supply quantity (g/capita/day)\",\"Madagascar\"]\n",
    "print(\"The total Protein supply quantity in Madagascar in 2015 is\",protein_supply)"
   ]
  },
  {
   "cell_type": "raw",
   "id": "38ffbf4f-6f9a-4728-91e1-5b669f87eb4c",
   "metadata": {},
   "source": []
  },
  {
   "cell_type": "markdown",
   "id": "f2a0fb5c-41ee-449c-a2ed-f1e539dc95e5",
   "metadata": {},
   "source": [
    "\r\n",
    "Perform a groupby operation on ‘Element’.  What is the total number of the sum of Processing in 2017?"
   ]
  },
  {
   "cell_type": "code",
   "execution_count": 19,
   "id": "f23c30f0-2df5-434f-a2f7-484c9a6a67f6",
   "metadata": {},
   "outputs": [
    {
     "name": "stdout",
     "output_type": "stream",
     "text": [
      "The total sum of Processing in 2017 is 292836.0\n"
     ]
    }
   ],
   "source": [
    "#Groupingby the sum of all element features wrt 2017 and indexing Processing \n",
    "processing = data.groupby([\"element\"]).sum()['2017'].loc[\"Processing\"]\n",
    "print(\"The total sum of Processing in 2017 is\",processing)"
   ]
  },
  {
   "cell_type": "raw",
   "id": "4f0ac3e2-ab08-42b5-b4c4-0ed172433f8e",
   "metadata": {},
   "source": []
  },
  {
   "cell_type": "markdown",
   "id": "6d531770-a620-4b66-ae53-4abaf59ba05e",
   "metadata": {},
   "source": [
    "\r\n",
    "If you have the following list\r\n",
    "\r\n",
    "lst = [[35, 'Portugal', 94], [33, 'Argentina', 93], [30 , 'Brazil', 92]]\r\n",
    "\r\n",
    "col = [‘Age’,’Nationality’,’Overall’]\r\n",
    "\r\n",
    "How do you create a pandas DataFrame using this list, to look like the table below?"
   ]
  },
  {
   "cell_type": "code",
   "execution_count": 20,
   "id": "e0485f1c-0b5f-4437-b3c0-a3fbc984881b",
   "metadata": {},
   "outputs": [
    {
     "data": {
      "text/html": [
       "<div>\n",
       "<style scoped>\n",
       "    .dataframe tbody tr th:only-of-type {\n",
       "        vertical-align: middle;\n",
       "    }\n",
       "\n",
       "    .dataframe tbody tr th {\n",
       "        vertical-align: top;\n",
       "    }\n",
       "\n",
       "    .dataframe thead th {\n",
       "        text-align: right;\n",
       "    }\n",
       "</style>\n",
       "<table border=\"1\" class=\"dataframe\">\n",
       "  <thead>\n",
       "    <tr style=\"text-align: right;\">\n",
       "      <th></th>\n",
       "      <th>Age</th>\n",
       "      <th>Nationality</th>\n",
       "      <th>Overall</th>\n",
       "    </tr>\n",
       "  </thead>\n",
       "  <tbody>\n",
       "    <tr>\n",
       "      <th>1</th>\n",
       "      <td>35</td>\n",
       "      <td>Portugal</td>\n",
       "      <td>94</td>\n",
       "    </tr>\n",
       "    <tr>\n",
       "      <th>2</th>\n",
       "      <td>33</td>\n",
       "      <td>Argentina</td>\n",
       "      <td>93</td>\n",
       "    </tr>\n",
       "    <tr>\n",
       "      <th>3</th>\n",
       "      <td>30</td>\n",
       "      <td>Brazil</td>\n",
       "      <td>92</td>\n",
       "    </tr>\n",
       "  </tbody>\n",
       "</table>\n",
       "</div>"
      ],
      "text/plain": [
       "   Age Nationality  Overall\n",
       "1   35    Portugal       94\n",
       "2   33   Argentina       93\n",
       "3   30      Brazil       92"
      ]
     },
     "execution_count": 20,
     "metadata": {},
     "output_type": "execute_result"
    }
   ],
   "source": [
    "#Creating a DataFrame from lists\n",
    "lst = [[35, 'Portugal', 94], [33, 'Argentina', 93], [30 , 'Brazil', 92]]\n",
    "col = ['Age','Nationality','Overall']\n",
    "##Creating DataFramea\n",
    "new = pd.DataFrame(lst, columns = col, index = [i for i in range(1,4)])\n",
    "new"
   ]
  },
  {
   "cell_type": "raw",
   "id": "7374c84a-4ec2-47d8-963a-35714f56f471",
   "metadata": {},
   "source": []
  },
  {
   "cell_type": "markdown",
   "id": "8d3a713c-d174-4d17-9dce-0e7290972a47",
   "metadata": {},
   "source": [
    "\r\n",
    "Which of the following dataframe methods can be used to access elements across rows and columns?"
   ]
  },
  {
   "cell_type": "code",
   "execution_count": 21,
   "id": "7ba7463e-8ccd-46b8-81d1-8a27e2d66465",
   "metadata": {},
   "outputs": [
    {
     "data": {
      "text/html": [
       "<div>\n",
       "<style scoped>\n",
       "    .dataframe tbody tr th:only-of-type {\n",
       "        vertical-align: middle;\n",
       "    }\n",
       "\n",
       "    .dataframe tbody tr th {\n",
       "        vertical-align: top;\n",
       "    }\n",
       "\n",
       "    .dataframe thead th {\n",
       "        text-align: right;\n",
       "    }\n",
       "</style>\n",
       "<table border=\"1\" class=\"dataframe\">\n",
       "  <thead>\n",
       "    <tr style=\"text-align: right;\">\n",
       "      <th></th>\n",
       "      <th>area</th>\n",
       "      <th>item</th>\n",
       "      <th>element_code</th>\n",
       "      <th>element</th>\n",
       "      <th>2014</th>\n",
       "      <th>2015</th>\n",
       "      <th>2016</th>\n",
       "      <th>2017</th>\n",
       "      <th>2018</th>\n",
       "    </tr>\n",
       "  </thead>\n",
       "  <tbody>\n",
       "    <tr>\n",
       "      <th>0</th>\n",
       "      <td>Algeria</td>\n",
       "      <td>Population</td>\n",
       "      <td>511</td>\n",
       "      <td>Total Population - Both sexes</td>\n",
       "      <td>38924.00</td>\n",
       "      <td>39728.00</td>\n",
       "      <td>40551.00</td>\n",
       "      <td>41389.00</td>\n",
       "      <td>42228.00</td>\n",
       "    </tr>\n",
       "    <tr>\n",
       "      <th>1</th>\n",
       "      <td>Algeria</td>\n",
       "      <td>Population</td>\n",
       "      <td>5301</td>\n",
       "      <td>Domestic supply quantity</td>\n",
       "      <td>0.00</td>\n",
       "      <td>0.00</td>\n",
       "      <td>0.00</td>\n",
       "      <td>0.00</td>\n",
       "      <td>0.00</td>\n",
       "    </tr>\n",
       "    <tr>\n",
       "      <th>2</th>\n",
       "      <td>Algeria</td>\n",
       "      <td>Grand Total</td>\n",
       "      <td>664</td>\n",
       "      <td>Food supply (kcal/capita/day)</td>\n",
       "      <td>3377.00</td>\n",
       "      <td>3379.00</td>\n",
       "      <td>3372.00</td>\n",
       "      <td>3341.00</td>\n",
       "      <td>3322.00</td>\n",
       "    </tr>\n",
       "    <tr>\n",
       "      <th>3</th>\n",
       "      <td>Algeria</td>\n",
       "      <td>Grand Total</td>\n",
       "      <td>674</td>\n",
       "      <td>Protein supply quantity (g/capita/day)</td>\n",
       "      <td>94.90</td>\n",
       "      <td>94.35</td>\n",
       "      <td>94.72</td>\n",
       "      <td>92.82</td>\n",
       "      <td>91.83</td>\n",
       "    </tr>\n",
       "    <tr>\n",
       "      <th>4</th>\n",
       "      <td>Algeria</td>\n",
       "      <td>Grand Total</td>\n",
       "      <td>684</td>\n",
       "      <td>Fat supply quantity (g/capita/day)</td>\n",
       "      <td>80.06</td>\n",
       "      <td>79.36</td>\n",
       "      <td>77.40</td>\n",
       "      <td>80.19</td>\n",
       "      <td>77.28</td>\n",
       "    </tr>\n",
       "    <tr>\n",
       "      <th>...</th>\n",
       "      <td>...</td>\n",
       "      <td>...</td>\n",
       "      <td>...</td>\n",
       "      <td>...</td>\n",
       "      <td>...</td>\n",
       "      <td>...</td>\n",
       "      <td>...</td>\n",
       "      <td>...</td>\n",
       "      <td>...</td>\n",
       "    </tr>\n",
       "    <tr>\n",
       "      <th>60938</th>\n",
       "      <td>Zimbabwe</td>\n",
       "      <td>Miscellaneous</td>\n",
       "      <td>5142</td>\n",
       "      <td>Food</td>\n",
       "      <td>42.00</td>\n",
       "      <td>46.00</td>\n",
       "      <td>33.00</td>\n",
       "      <td>19.00</td>\n",
       "      <td>16.00</td>\n",
       "    </tr>\n",
       "    <tr>\n",
       "      <th>60939</th>\n",
       "      <td>Zimbabwe</td>\n",
       "      <td>Miscellaneous</td>\n",
       "      <td>645</td>\n",
       "      <td>Food supply quantity (kg/capita/yr)</td>\n",
       "      <td>3.06</td>\n",
       "      <td>3.33</td>\n",
       "      <td>2.35</td>\n",
       "      <td>1.33</td>\n",
       "      <td>1.08</td>\n",
       "    </tr>\n",
       "    <tr>\n",
       "      <th>60940</th>\n",
       "      <td>Zimbabwe</td>\n",
       "      <td>Miscellaneous</td>\n",
       "      <td>664</td>\n",
       "      <td>Food supply (kcal/capita/day)</td>\n",
       "      <td>3.00</td>\n",
       "      <td>4.00</td>\n",
       "      <td>3.00</td>\n",
       "      <td>1.00</td>\n",
       "      <td>1.00</td>\n",
       "    </tr>\n",
       "    <tr>\n",
       "      <th>60941</th>\n",
       "      <td>Zimbabwe</td>\n",
       "      <td>Miscellaneous</td>\n",
       "      <td>674</td>\n",
       "      <td>Protein supply quantity (g/capita/day)</td>\n",
       "      <td>0.10</td>\n",
       "      <td>0.11</td>\n",
       "      <td>0.08</td>\n",
       "      <td>0.04</td>\n",
       "      <td>0.04</td>\n",
       "    </tr>\n",
       "    <tr>\n",
       "      <th>60942</th>\n",
       "      <td>Zimbabwe</td>\n",
       "      <td>Miscellaneous</td>\n",
       "      <td>684</td>\n",
       "      <td>Fat supply quantity (g/capita/day)</td>\n",
       "      <td>0.04</td>\n",
       "      <td>0.05</td>\n",
       "      <td>0.03</td>\n",
       "      <td>0.02</td>\n",
       "      <td>0.01</td>\n",
       "    </tr>\n",
       "  </tbody>\n",
       "</table>\n",
       "<p>60943 rows × 9 columns</p>\n",
       "</div>"
      ],
      "text/plain": [
       "           area           item  element_code  \\\n",
       "0       Algeria     Population           511   \n",
       "1       Algeria     Population          5301   \n",
       "2       Algeria    Grand Total           664   \n",
       "3       Algeria    Grand Total           674   \n",
       "4       Algeria    Grand Total           684   \n",
       "...         ...            ...           ...   \n",
       "60938  Zimbabwe  Miscellaneous          5142   \n",
       "60939  Zimbabwe  Miscellaneous           645   \n",
       "60940  Zimbabwe  Miscellaneous           664   \n",
       "60941  Zimbabwe  Miscellaneous           674   \n",
       "60942  Zimbabwe  Miscellaneous           684   \n",
       "\n",
       "                                      element      2014      2015      2016  \\\n",
       "0               Total Population - Both sexes  38924.00  39728.00  40551.00   \n",
       "1                    Domestic supply quantity      0.00      0.00      0.00   \n",
       "2               Food supply (kcal/capita/day)   3377.00   3379.00   3372.00   \n",
       "3      Protein supply quantity (g/capita/day)     94.90     94.35     94.72   \n",
       "4          Fat supply quantity (g/capita/day)     80.06     79.36     77.40   \n",
       "...                                       ...       ...       ...       ...   \n",
       "60938                                    Food     42.00     46.00     33.00   \n",
       "60939     Food supply quantity (kg/capita/yr)      3.06      3.33      2.35   \n",
       "60940           Food supply (kcal/capita/day)      3.00      4.00      3.00   \n",
       "60941  Protein supply quantity (g/capita/day)      0.10      0.11      0.08   \n",
       "60942      Fat supply quantity (g/capita/day)      0.04      0.05      0.03   \n",
       "\n",
       "           2017      2018  \n",
       "0      41389.00  42228.00  \n",
       "1          0.00      0.00  \n",
       "2       3341.00   3322.00  \n",
       "3         92.82     91.83  \n",
       "4         80.19     77.28  \n",
       "...         ...       ...  \n",
       "60938     19.00     16.00  \n",
       "60939      1.33      1.08  \n",
       "60940      1.00      1.00  \n",
       "60941      0.04      0.04  \n",
       "60942      0.02      0.01  \n",
       "\n",
       "[60943 rows x 9 columns]"
      ]
     },
     "execution_count": 21,
     "metadata": {},
     "output_type": "execute_result"
    }
   ],
   "source": [
    "#Indexing rows and columns\n",
    "data.iloc[:]"
   ]
  },
  {
   "cell_type": "raw",
   "id": "ee09fbe5-65c2-4de4-810e-1de17cbb2a52",
   "metadata": {},
   "source": []
  },
  {
   "cell_type": "markdown",
   "id": "4a40da56-0e69-457d-a3e1-40e5e410848b",
   "metadata": {},
   "source": [
    "\r\n",
    "Given the following python code, what would the output of the code give?\r\n",
    "\r\n",
    "my_tuppy = (1,2,5,8)\r\n",
    "\r\n",
    "my_tuppy[2] = 6"
   ]
  },
  {
   "cell_type": "code",
   "execution_count": 22,
   "id": "2d2c0a10-05f7-4dbf-a545-a1b4dda12db0",
   "metadata": {},
   "outputs": [
    {
     "ename": "TypeError",
     "evalue": "'tuple' object does not support item assignment",
     "output_type": "error",
     "traceback": [
      "\u001b[1;31m---------------------------------------------------------------------------\u001b[0m",
      "\u001b[1;31mTypeError\u001b[0m                                 Traceback (most recent call last)",
      "Cell \u001b[1;32mIn[22], line 4\u001b[0m\n\u001b[0;32m      1\u001b[0m \u001b[38;5;66;03m#Testting an error message\u001b[39;00m\n\u001b[0;32m      2\u001b[0m my_tuppy \u001b[38;5;241m=\u001b[39m (\u001b[38;5;241m1\u001b[39m,\u001b[38;5;241m2\u001b[39m,\u001b[38;5;241m5\u001b[39m,\u001b[38;5;241m8\u001b[39m)\n\u001b[1;32m----> 4\u001b[0m my_tuppy[\u001b[38;5;241m2\u001b[39m] \u001b[38;5;241m=\u001b[39m \u001b[38;5;241m6\u001b[39m\n",
      "\u001b[1;31mTypeError\u001b[0m: 'tuple' object does not support item assignment"
     ]
    }
   ],
   "source": [
    "#Testting an error message\n",
    "my_tuppy = (1,2,5,8)\n",
    "\n",
    "my_tuppy[2] = 6"
   ]
  },
  {
   "cell_type": "raw",
   "id": "5d1c4988-b19f-4226-801c-f1cd4f05dbda",
   "metadata": {},
   "source": []
  },
  {
   "cell_type": "markdown",
   "id": "902ca324-d525-48de-9883-70aee6fca0fe",
   "metadata": {},
   "source": [
    "Select columns ‘Y2017’ and ‘Area’, Perform a groupby operation on ‘Area’.  Which of these Areas had the highest sum in 2017?"
   ]
  },
  {
   "cell_type": "code",
   "execution_count": 23,
   "id": "6911dcad-b178-4c9f-be54-57df193cc323",
   "metadata": {
    "editable": true,
    "slideshow": {
     "slide_type": ""
    },
    "tags": []
   },
   "outputs": [
    {
     "name": "stdout",
     "output_type": "stream",
     "text": [
      "The country with the highest sum for 2017 was Nigeria\n"
     ]
    }
   ],
   "source": [
    "#Groupingby the total sum for area wrt 2017 and indentifying which has the max value\n",
    "max_area = data.groupby([\"area\"]).sum()['2017'].idxmax()\n",
    "print(\"The country with the highest sum for 2017 was\", max_area)"
   ]
  },
  {
   "cell_type": "markdown",
   "id": "694f7ef4-4029-41f2-904c-04a0b7009e4f",
   "metadata": {
    "editable": true,
    "slideshow": {
     "slide_type": ""
    },
    "tags": []
   },
   "source": [
    "# END"
   ]
  }
 ],
 "metadata": {
  "kernelspec": {
   "display_name": "Python 3 (ipykernel)",
   "language": "python",
   "name": "python3"
  },
  "language_info": {
   "codemirror_mode": {
    "name": "ipython",
    "version": 3
   },
   "file_extension": ".py",
   "mimetype": "text/x-python",
   "name": "python",
   "nbconvert_exporter": "python",
   "pygments_lexer": "ipython3",
   "version": "3.11.7"
  }
 },
 "nbformat": 4,
 "nbformat_minor": 5
}
